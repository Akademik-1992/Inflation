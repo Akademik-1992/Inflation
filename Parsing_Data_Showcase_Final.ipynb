{
 "cells": [
  {
   "cell_type": "code",
   "execution_count": 3,
   "metadata": {},
   "outputs": [],
   "source": [
    "import requests\n",
    "from bs4 import BeautifulSoup\n",
    "import pandas as pd\n",
    "import re, time, json, openpyxl\n",
    "from datetime import date, datetime, timedelta\n",
    "from dateutil.relativedelta import relativedelta\n",
    "import numpy as np\n",
    "from tqdm import tqdm\n",
    "\n",
    "import warnings\n",
    "warnings.filterwarnings('ignore')"
   ]
  },
  {
   "cell_type": "code",
   "execution_count": 18,
   "metadata": {},
   "outputs": [
    {
     "name": "stderr",
     "output_type": "stream",
     "text": [
      "  3%|▎         | 8/234 [00:03<01:14,  3.05it/s]"
     ]
    },
    {
     "name": "stdout",
     "output_type": "stream",
     "text": [
      "\n"
     ]
    },
    {
     "name": "stderr",
     "output_type": "stream",
     "text": [
      "  6%|▋         | 15/234 [00:05<01:27,  2.50it/s]"
     ]
    },
    {
     "name": "stdout",
     "output_type": "stream",
     "text": [
      "\n"
     ]
    },
    {
     "name": "stderr",
     "output_type": "stream",
     "text": [
      "  9%|▉         | 22/234 [00:08<01:08,  3.09it/s]"
     ]
    },
    {
     "name": "stdout",
     "output_type": "stream",
     "text": [
      "\n"
     ]
    },
    {
     "name": "stderr",
     "output_type": "stream",
     "text": [
      " 12%|█▏        | 29/234 [00:10<01:06,  3.09it/s]"
     ]
    },
    {
     "name": "stdout",
     "output_type": "stream",
     "text": [
      "\n"
     ]
    },
    {
     "name": "stderr",
     "output_type": "stream",
     "text": [
      " 15%|█▌        | 36/234 [00:12<01:05,  3.04it/s]"
     ]
    },
    {
     "name": "stdout",
     "output_type": "stream",
     "text": [
      "\n"
     ]
    },
    {
     "name": "stderr",
     "output_type": "stream",
     "text": [
      " 18%|█▊        | 43/234 [00:14<01:01,  3.12it/s]"
     ]
    },
    {
     "name": "stdout",
     "output_type": "stream",
     "text": [
      "\n"
     ]
    },
    {
     "name": "stderr",
     "output_type": "stream",
     "text": [
      " 21%|██▏       | 50/234 [00:18<01:49,  1.68it/s]"
     ]
    },
    {
     "name": "stdout",
     "output_type": "stream",
     "text": [
      "\n"
     ]
    },
    {
     "name": "stderr",
     "output_type": "stream",
     "text": [
      " 24%|██▍       | 57/234 [00:23<02:08,  1.38it/s]"
     ]
    },
    {
     "name": "stdout",
     "output_type": "stream",
     "text": [
      "\n"
     ]
    },
    {
     "name": "stderr",
     "output_type": "stream",
     "text": [
      " 27%|██▋       | 64/234 [00:28<01:56,  1.45it/s]"
     ]
    },
    {
     "name": "stdout",
     "output_type": "stream",
     "text": [
      "\n"
     ]
    },
    {
     "name": "stderr",
     "output_type": "stream",
     "text": [
      " 30%|███       | 71/234 [00:32<01:55,  1.41it/s]"
     ]
    },
    {
     "name": "stdout",
     "output_type": "stream",
     "text": [
      "\n"
     ]
    },
    {
     "name": "stderr",
     "output_type": "stream",
     "text": [
      " 33%|███▎      | 78/234 [00:37<01:52,  1.39it/s]"
     ]
    },
    {
     "name": "stdout",
     "output_type": "stream",
     "text": [
      "\n"
     ]
    },
    {
     "name": "stderr",
     "output_type": "stream",
     "text": [
      " 36%|███▋      | 85/234 [00:41<01:42,  1.46it/s]"
     ]
    },
    {
     "name": "stdout",
     "output_type": "stream",
     "text": [
      "\n"
     ]
    },
    {
     "name": "stderr",
     "output_type": "stream",
     "text": [
      " 39%|███▉      | 92/234 [00:46<01:35,  1.48it/s]"
     ]
    },
    {
     "name": "stdout",
     "output_type": "stream",
     "text": [
      "\n"
     ]
    },
    {
     "name": "stderr",
     "output_type": "stream",
     "text": [
      " 42%|████▏     | 99/234 [00:51<01:39,  1.35it/s]"
     ]
    },
    {
     "name": "stdout",
     "output_type": "stream",
     "text": [
      "\n"
     ]
    },
    {
     "name": "stderr",
     "output_type": "stream",
     "text": [
      " 45%|████▌     | 106/234 [00:55<01:29,  1.44it/s]"
     ]
    },
    {
     "name": "stdout",
     "output_type": "stream",
     "text": [
      "\n"
     ]
    },
    {
     "name": "stderr",
     "output_type": "stream",
     "text": [
      " 48%|████▊     | 113/234 [01:00<01:22,  1.46it/s]"
     ]
    },
    {
     "name": "stdout",
     "output_type": "stream",
     "text": [
      "\n"
     ]
    },
    {
     "name": "stderr",
     "output_type": "stream",
     "text": [
      " 51%|█████▏    | 120/234 [01:04<01:17,  1.46it/s]"
     ]
    },
    {
     "name": "stdout",
     "output_type": "stream",
     "text": [
      "\n"
     ]
    },
    {
     "name": "stderr",
     "output_type": "stream",
     "text": [
      " 54%|█████▍    | 127/234 [01:09<01:18,  1.37it/s]"
     ]
    },
    {
     "name": "stdout",
     "output_type": "stream",
     "text": [
      "\n"
     ]
    },
    {
     "name": "stderr",
     "output_type": "stream",
     "text": [
      " 57%|█████▋    | 134/234 [01:14<01:10,  1.42it/s]"
     ]
    },
    {
     "name": "stdout",
     "output_type": "stream",
     "text": [
      "\n"
     ]
    },
    {
     "name": "stderr",
     "output_type": "stream",
     "text": [
      " 60%|██████    | 141/234 [01:19<01:06,  1.39it/s]"
     ]
    },
    {
     "name": "stdout",
     "output_type": "stream",
     "text": [
      "\n"
     ]
    },
    {
     "name": "stderr",
     "output_type": "stream",
     "text": [
      " 63%|██████▎   | 148/234 [01:23<00:58,  1.48it/s]"
     ]
    },
    {
     "name": "stdout",
     "output_type": "stream",
     "text": [
      "\n"
     ]
    },
    {
     "name": "stderr",
     "output_type": "stream",
     "text": [
      " 66%|██████▌   | 155/234 [01:26<00:35,  2.24it/s]"
     ]
    },
    {
     "name": "stdout",
     "output_type": "stream",
     "text": [
      "\n"
     ]
    },
    {
     "name": "stderr",
     "output_type": "stream",
     "text": [
      " 69%|██████▉   | 162/234 [01:29<00:24,  2.89it/s]"
     ]
    },
    {
     "name": "stdout",
     "output_type": "stream",
     "text": [
      "\n"
     ]
    },
    {
     "name": "stderr",
     "output_type": "stream",
     "text": [
      " 72%|███████▏  | 169/234 [01:31<00:20,  3.11it/s]"
     ]
    },
    {
     "name": "stdout",
     "output_type": "stream",
     "text": [
      "\n"
     ]
    },
    {
     "name": "stderr",
     "output_type": "stream",
     "text": [
      " 75%|███████▌  | 176/234 [01:33<00:18,  3.11it/s]"
     ]
    },
    {
     "name": "stdout",
     "output_type": "stream",
     "text": [
      "\n"
     ]
    },
    {
     "name": "stderr",
     "output_type": "stream",
     "text": [
      " 78%|███████▊  | 183/234 [01:36<00:16,  3.09it/s]"
     ]
    },
    {
     "name": "stdout",
     "output_type": "stream",
     "text": [
      "\n"
     ]
    },
    {
     "name": "stderr",
     "output_type": "stream",
     "text": [
      " 81%|████████  | 190/234 [01:38<00:13,  3.16it/s]"
     ]
    },
    {
     "name": "stdout",
     "output_type": "stream",
     "text": [
      "\n"
     ]
    },
    {
     "name": "stderr",
     "output_type": "stream",
     "text": [
      " 84%|████████▍ | 197/234 [01:40<00:12,  3.04it/s]"
     ]
    },
    {
     "name": "stdout",
     "output_type": "stream",
     "text": [
      "\n"
     ]
    },
    {
     "name": "stderr",
     "output_type": "stream",
     "text": [
      " 87%|████████▋ | 204/234 [01:42<00:09,  3.16it/s]"
     ]
    },
    {
     "name": "stdout",
     "output_type": "stream",
     "text": [
      "\n"
     ]
    },
    {
     "name": "stderr",
     "output_type": "stream",
     "text": [
      " 90%|█████████ | 211/234 [01:45<00:07,  3.14it/s]"
     ]
    },
    {
     "name": "stdout",
     "output_type": "stream",
     "text": [
      "\n"
     ]
    },
    {
     "name": "stderr",
     "output_type": "stream",
     "text": [
      " 93%|█████████▎| 218/234 [01:47<00:05,  3.05it/s]"
     ]
    },
    {
     "name": "stdout",
     "output_type": "stream",
     "text": [
      "\n"
     ]
    },
    {
     "name": "stderr",
     "output_type": "stream",
     "text": [
      " 96%|█████████▌| 225/234 [01:49<00:02,  3.10it/s]"
     ]
    },
    {
     "name": "stdout",
     "output_type": "stream",
     "text": [
      "\n"
     ]
    },
    {
     "name": "stderr",
     "output_type": "stream",
     "text": [
      " 99%|█████████▉| 232/234 [01:51<00:00,  3.10it/s]"
     ]
    },
    {
     "name": "stdout",
     "output_type": "stream",
     "text": [
      "\n"
     ]
    },
    {
     "name": "stderr",
     "output_type": "stream",
     "text": [
      "100%|██████████| 234/234 [01:52<00:00,  2.08it/s]"
     ]
    },
    {
     "name": "stdout",
     "output_type": "stream",
     "text": [
      "CPU times: user 3.42 s, sys: 403 ms, total: 3.82 s\n",
      "Wall time: 1min 52s\n"
     ]
    },
    {
     "name": "stderr",
     "output_type": "stream",
     "text": [
      "\n"
     ]
    },
    {
     "data": {
      "text/html": [
       "<div>\n",
       "<style scoped>\n",
       "    .dataframe tbody tr th:only-of-type {\n",
       "        vertical-align: middle;\n",
       "    }\n",
       "\n",
       "    .dataframe tbody tr th {\n",
       "        vertical-align: top;\n",
       "    }\n",
       "\n",
       "    .dataframe thead th {\n",
       "        text-align: right;\n",
       "    }\n",
       "</style>\n",
       "<table border=\"1\" class=\"dataframe\">\n",
       "  <thead>\n",
       "    <tr style=\"text-align: right;\">\n",
       "      <th></th>\n",
       "      <th>Период</th>\n",
       "      <th>Регион</th>\n",
       "      <th>Код товара (услуги)</th>\n",
       "      <th>Наименование товара (услуги)</th>\n",
       "      <th>Цена</th>\n",
       "    </tr>\n",
       "  </thead>\n",
       "  <tbody>\n",
       "    <tr>\n",
       "      <th>0</th>\n",
       "      <td>2024-01-08</td>\n",
       "      <td>Ставропольский край</td>\n",
       "      <td>1001</td>\n",
       "      <td>Маргарин, кг</td>\n",
       "      <td>248.17</td>\n",
       "    </tr>\n",
       "    <tr>\n",
       "      <th>1</th>\n",
       "      <td>2024-01-08</td>\n",
       "      <td>Ставропольский край</td>\n",
       "      <td>1102</td>\n",
       "      <td>Сметана, кг</td>\n",
       "      <td>295.40</td>\n",
       "    </tr>\n",
       "    <tr>\n",
       "      <th>2</th>\n",
       "      <td>2024-01-08</td>\n",
       "      <td>Ставропольский край</td>\n",
       "      <td>111</td>\n",
       "      <td>Говядина (кроме бескостного мяса), кг</td>\n",
       "      <td>543.56</td>\n",
       "    </tr>\n",
       "    <tr>\n",
       "      <th>3</th>\n",
       "      <td>2024-01-08</td>\n",
       "      <td>Ставропольский край</td>\n",
       "      <td>1111</td>\n",
       "      <td>Молоко питьевое цельное пастеризованное 2,5-3...</td>\n",
       "      <td>78.07</td>\n",
       "    </tr>\n",
       "    <tr>\n",
       "      <th>4</th>\n",
       "      <td>2024-01-08</td>\n",
       "      <td>Ставропольский край</td>\n",
       "      <td>1112</td>\n",
       "      <td>Молоко питьевое цельное стерилизованное 2,5-3...</td>\n",
       "      <td>85.25</td>\n",
       "    </tr>\n",
       "    <tr>\n",
       "      <th>...</th>\n",
       "      <td>...</td>\n",
       "      <td>...</td>\n",
       "      <td>...</td>\n",
       "      <td>...</td>\n",
       "      <td>...</td>\n",
       "    </tr>\n",
       "    <tr>\n",
       "      <th>3658</th>\n",
       "      <td>2024-08-19</td>\n",
       "      <td>Ставропольский край</td>\n",
       "      <td>9465</td>\n",
       "      <td>Проживание в гостинице 4*-5*, сутки с человека</td>\n",
       "      <td>3050.29</td>\n",
       "    </tr>\n",
       "    <tr>\n",
       "      <th>3659</th>\n",
       "      <td>2024-08-19</td>\n",
       "      <td>Ставропольский край</td>\n",
       "      <td>9466</td>\n",
       "      <td>Проживание в хостеле, сутки с человека</td>\n",
       "      <td>788.61</td>\n",
       "    </tr>\n",
       "    <tr>\n",
       "      <th>3660</th>\n",
       "      <td>2024-08-19</td>\n",
       "      <td>Ставропольский край</td>\n",
       "      <td>9475</td>\n",
       "      <td>Услуги по снабжению электроэнергией</td>\n",
       "      <td>601.80</td>\n",
       "    </tr>\n",
       "    <tr>\n",
       "      <th>3661</th>\n",
       "      <td>2024-08-19</td>\n",
       "      <td>Ставропольский край</td>\n",
       "      <td>9606</td>\n",
       "      <td>Санаторий, день</td>\n",
       "      <td>4894.40</td>\n",
       "    </tr>\n",
       "    <tr>\n",
       "      <th>3662</th>\n",
       "      <td>2024-08-19</td>\n",
       "      <td>Ставропольский край</td>\n",
       "      <td>9607</td>\n",
       "      <td>Дом отдыха, пансионат, день</td>\n",
       "      <td>4128.79</td>\n",
       "    </tr>\n",
       "  </tbody>\n",
       "</table>\n",
       "<p>3663 rows × 5 columns</p>\n",
       "</div>"
      ],
      "text/plain": [
       "         Период                Регион Код товара (услуги)  \\\n",
       "0    2024-01-08   Ставропольский край                1001   \n",
       "1    2024-01-08   Ставропольский край                1102   \n",
       "2    2024-01-08   Ставропольский край                 111   \n",
       "3    2024-01-08   Ставропольский край                1111   \n",
       "4    2024-01-08   Ставропольский край                1112   \n",
       "...         ...                   ...                 ...   \n",
       "3658 2024-08-19   Ставропольский край                9465   \n",
       "3659 2024-08-19   Ставропольский край                9466   \n",
       "3660 2024-08-19   Ставропольский край                9475   \n",
       "3661 2024-08-19   Ставропольский край                9606   \n",
       "3662 2024-08-19   Ставропольский край                9607   \n",
       "\n",
       "                           Наименование товара (услуги)     Цена  \n",
       "0                                          Маргарин, кг   248.17  \n",
       "1                                           Сметана, кг   295.40  \n",
       "2                 Говядина (кроме бескостного мяса), кг   543.56  \n",
       "3      Молоко питьевое цельное пастеризованное 2,5-3...    78.07  \n",
       "4      Молоко питьевое цельное стерилизованное 2,5-3...    85.25  \n",
       "...                                                 ...      ...  \n",
       "3658     Проживание в гостинице 4*-5*, сутки с человека  3050.29  \n",
       "3659             Проживание в хостеле, сутки с человека   788.61  \n",
       "3660                Услуги по снабжению электроэнергией   601.80  \n",
       "3661                                    Санаторий, день  4894.40  \n",
       "3662                        Дом отдыха, пансионат, день  4128.79  \n",
       "\n",
       "[3663 rows x 5 columns]"
      ]
     },
     "execution_count": 18,
     "metadata": {},
     "output_type": "execute_result"
    }
   ],
   "source": [
    "%%time\n",
    "df = pd.DataFrame(columns=['Период', 'Регион', 'Код товара (услуги)', 'Наименование товара (услуги)', 'Цена'])\n",
    "\n",
    "date_start = datetime(2024, 1, 1) #.strftime(\"%Y-%m-%d\")\n",
    "# date_end = datetime(2024, 8 , 21) #.strftime(\"%Y-%m-%d\")\n",
    "date_end = datetime.today()\n",
    "date_df = pd.date_range(date_start, date_end)\n",
    "\n",
    "region_name = []\n",
    "product_name = []\n",
    "product_code = []\n",
    "price = []\n",
    "period = []\n",
    "\n",
    "week = 1\n",
    "# now_date = start\n",
    "\n",
    "for dat in tqdm(date_df):\n",
    "\n",
    "    period_intermediate = []\n",
    "\n",
    "    url = f'https://showdata.gks.ru/x/report/274422/view/compound/?filter_1_0={dat.strftime(\"%Y-%m-%d\")}+00%3A00%3A00%7C-58&filter_2_0=109543%2C109422%2C109423%2C109425%2C109517%2C109549%2C109427%2C109550%2C109428%2C109430%2C339613%2C109518%2C109396%2C109397%2C109432%2C347487%2C109435%2C109560%2C109561%2C109562%2C109563%2C109566%2C109444%2C109451%2C109577%2C109524%2C109402%2C109525%2C109526%2C109457%2C109459%2C109460%2C339606%2C109463%2C109464%2C109466%2C109468%2C109469%2C109470%2C109471%2C109594%2C109472%2C109595%2C109474%2C109597%2C109476%2C109479%2C109726%2C110321%2C347014%2C109530%2C217794%2C109744%2C109534%2C109652%2C109654%2C109781%2C109681%2C109688%2C109811%2C109692%2C109693%2C109816%2C109831%2C109715%2C339611%2C109841%2C109842%2C109721%2C109723%2C109849%2C109854%2C110387%2C339616%2C110389%2C109972%2C109900%2C109983%2C109901%2C318647%2C109996%2C109418%2C110335%2C109931%2C110018%2C110022%2C109944%2C109946%2C217805%2C110029%2C109947%2C110030%2C109948%2C110031%2C217807%2C217787%2C110038%2C110043%2C109961%2C109962%2C110045%2C110370%2C110174%2C110175%2C110053%2C110057%2C110180%2C110181%2C110184%2C110185%2C110063%2C110065%2C110188%2C109419%2C339627%2C339641%2C339632%2C339772%2C347492%2C110077%2C110086%2C110087%2C347477%2C110438%2C110102%2C110225%2C110103%2C110226%2C217806%2C110231%2C110252%2C110254%2C110135%2C110259%2C110137%2C110138%2C110261%2C110264%2C110142%2C110346%2C318633%2C318634%2C318614%2C318619%2C318622%2C110268%2C110278%2C110281%2C110416%2C110162%2C110285&filter_3_0=13062&rp_submit=t&_=1723879556931'\n",
    "    response = requests.get(url, verify=False).json()\n",
    "    if len(response['headers']['rowHeader']) != 0:\n",
    "        # print(f'Обрабатывается неделя {week}!')\n",
    "        # period_intermediate.append(dat.strftime(\"%Y-%m-%d\"))\n",
    "        \n",
    "        for value in response['data']['reportData']['data']:\n",
    "            price.append(value[0]['db_value'])\n",
    "            period.append(dat)\n",
    "            # for period_ in response['headers']['params']['conditions']:\n",
    "            #     if period_['fieldName'] == 'filter_1_0':\n",
    "            #         period.append(period_['value'])\n",
    "                    \n",
    "        for item in response['headers']['reportHeaders']['row_header']:\n",
    "            for child in item['children']:\n",
    "                region_name.append(child['display_title'])\n",
    "    \n",
    "        for item in response['headers']['reportHeaders']['row_header']: \n",
    "            product_code.append(item['extra_row_attrs']['code'])\n",
    "            product_name.append(item['display_title']) \n",
    "        \n",
    "        # print(f'Неделя {week} обработана!')\n",
    "        week += 1\n",
    "        print()\n",
    "\n",
    "#         now_date = now_date + relativedelta(days=1)\n",
    "            \n",
    "    # except:\n",
    "#         now_date = now_date + relativedelta(days=1)\n",
    "        # continue\n",
    "    \n",
    "df['Период'] = period\n",
    "df['Регион'] = region_name\n",
    "df['Код товара (услуги)'] = product_code\n",
    "df['Наименование товара (услуги)'] = product_name\n",
    "df['Цена'] = price\n",
    "\n",
    "df['Регион'] = df['Регион'].str.lstrip('0123456789')\n",
    "df['Наименование товара (услуги)'] = df['Наименование товара (услуги)'].str.lstrip('0123456789')\n",
    "df"
   ]
  },
  {
   "cell_type": "code",
   "execution_count": null,
   "metadata": {},
   "outputs": [],
   "source": [
    "df.to_excel('Test.xlsx')"
   ]
  }
 ],
 "metadata": {
  "kernelspec": {
   "display_name": "Python 3 (ipykernel)",
   "language": "python",
   "name": "python3"
  },
  "language_info": {
   "codemirror_mode": {
    "name": "ipython",
    "version": 3
   },
   "file_extension": ".py",
   "mimetype": "text/x-python",
   "name": "python",
   "nbconvert_exporter": "python",
   "pygments_lexer": "ipython3",
   "version": "3.11.9"
  }
 },
 "nbformat": 4,
 "nbformat_minor": 2
}
